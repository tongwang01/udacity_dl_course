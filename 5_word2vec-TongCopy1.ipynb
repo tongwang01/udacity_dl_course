{
 "cells": [
  {
   "cell_type": "markdown",
   "metadata": {
    "colab_type": "text",
    "id": "D7tqLMoKF6uq"
   },
   "source": [
    "Deep Learning\n",
    "=============\n",
    "\n",
    "Assignment 5\n",
    "------------\n",
    "\n",
    "The goal of this assignment is to train a Word2Vec skip-gram model over [Text8](http://mattmahoney.net/dc/textdata) data."
   ]
  },
  {
   "cell_type": "code",
   "execution_count": 1,
   "metadata": {
    "cellView": "both",
    "colab": {
     "autoexec": {
      "startup": false,
      "wait_interval": 0
     }
    },
    "colab_type": "code",
    "collapsed": true,
    "id": "0K1ZyLn04QZf"
   },
   "outputs": [],
   "source": [
    "# These are all the modules we'll be using later. Make sure you can import them\n",
    "# before proceeding further.\n",
    "%matplotlib inline\n",
    "from __future__ import print_function\n",
    "import collections\n",
    "import math\n",
    "import numpy as np\n",
    "import os\n",
    "import random\n",
    "import tensorflow as tf\n",
    "import zipfile\n",
    "from matplotlib import pylab\n",
    "from six.moves import range\n",
    "from six.moves.urllib.request import urlretrieve\n",
    "from sklearn.manifold import TSNE"
   ]
  },
  {
   "cell_type": "code",
   "execution_count": 16,
   "metadata": {
    "collapsed": true
   },
   "outputs": [],
   "source": [
    "import pandas as pd"
   ]
  },
  {
   "cell_type": "markdown",
   "metadata": {
    "colab_type": "text",
    "id": "aCjPJE944bkV"
   },
   "source": [
    "Download the data from the source website if necessary."
   ]
  },
  {
   "cell_type": "code",
   "execution_count": 3,
   "metadata": {
    "cellView": "both",
    "colab": {
     "autoexec": {
      "startup": false,
      "wait_interval": 0
     },
     "output_extras": [
      {
       "item_id": 1
      }
     ]
    },
    "colab_type": "code",
    "collapsed": false,
    "executionInfo": {
     "elapsed": 14640,
     "status": "ok",
     "timestamp": 1445964482948,
     "user": {
      "color": "#1FA15D",
      "displayName": "Vincent Vanhoucke",
      "isAnonymous": false,
      "isMe": true,
      "permissionId": "05076109866853157986",
      "photoUrl": "//lh6.googleusercontent.com/-cCJa7dTDcgQ/AAAAAAAAAAI/AAAAAAAACgw/r2EZ_8oYer4/s50-c-k-no/photo.jpg",
      "sessionId": "2f1ffade4c9f20de",
      "userId": "102167687554210253930"
     },
     "user_tz": 420
    },
    "id": "RJ-o3UBUFtCw",
    "outputId": "c4ec222c-80b5-4298-e635-93ca9f79c3b7"
   },
   "outputs": [
    {
     "name": "stdout",
     "output_type": "stream",
     "text": [
      "Found and verified text8.zip\n"
     ]
    }
   ],
   "source": [
    "url = 'http://mattmahoney.net/dc/'\n",
    "\n",
    "def maybe_download(filename, expected_bytes):\n",
    "  \"\"\"Download a file if not present, and make sure it's the right size.\"\"\"\n",
    "  if not os.path.exists(filename):\n",
    "    filename, _ = urlretrieve(url + filename, filename)\n",
    "  statinfo = os.stat(filename)\n",
    "  if statinfo.st_size == expected_bytes:\n",
    "    print('Found and verified %s' % filename)\n",
    "  else:\n",
    "    print(statinfo.st_size)\n",
    "    raise Exception(\n",
    "      'Failed to verify ' + filename + '. Can you get to it with a browser?')\n",
    "  return filename\n",
    "\n",
    "filename = maybe_download('text8.zip', 31344016)"
   ]
  },
  {
   "cell_type": "markdown",
   "metadata": {
    "colab_type": "text",
    "id": "Zqz3XiqI4mZT"
   },
   "source": [
    "Read the data into a string."
   ]
  },
  {
   "cell_type": "code",
   "execution_count": 11,
   "metadata": {
    "cellView": "both",
    "colab": {
     "autoexec": {
      "startup": false,
      "wait_interval": 0
     },
     "output_extras": [
      {
       "item_id": 1
      }
     ]
    },
    "colab_type": "code",
    "collapsed": false,
    "executionInfo": {
     "elapsed": 28844,
     "status": "ok",
     "timestamp": 1445964497165,
     "user": {
      "color": "#1FA15D",
      "displayName": "Vincent Vanhoucke",
      "isAnonymous": false,
      "isMe": true,
      "permissionId": "05076109866853157986",
      "photoUrl": "//lh6.googleusercontent.com/-cCJa7dTDcgQ/AAAAAAAAAAI/AAAAAAAACgw/r2EZ_8oYer4/s50-c-k-no/photo.jpg",
      "sessionId": "2f1ffade4c9f20de",
      "userId": "102167687554210253930"
     },
     "user_tz": 420
    },
    "id": "Mvf09fjugFU_",
    "outputId": "e3a928b4-1645-4fe8-be17-fcf47de5716d"
   },
   "outputs": [
    {
     "name": "stdout",
     "output_type": "stream",
     "text": [
      "Data size 17005207\n"
     ]
    }
   ],
   "source": [
    "def read_data(filename):\n",
    "  \"\"\"Extract the first file enclosed in a zip file as a list of words\"\"\"\n",
    "  with zipfile.ZipFile(filename) as f:\n",
    "    data = tf.compat.as_str(f.read(f.namelist()[0])).split()\n",
    "  return data\n",
    "  \n",
    "words = read_data(filename)\n",
    "print('Data size %d' % len(words))"
   ]
  },
  {
   "cell_type": "markdown",
   "metadata": {
    "colab_type": "text",
    "id": "Zdw6i4F8glpp"
   },
   "source": [
    "Build the dictionary and replace rare words with UNK token."
   ]
  },
  {
   "cell_type": "code",
   "execution_count": 12,
   "metadata": {
    "cellView": "both",
    "colab": {
     "autoexec": {
      "startup": false,
      "wait_interval": 0
     },
     "output_extras": [
      {
       "item_id": 1
      }
     ]
    },
    "colab_type": "code",
    "collapsed": false,
    "executionInfo": {
     "elapsed": 28849,
     "status": "ok",
     "timestamp": 1445964497178,
     "user": {
      "color": "#1FA15D",
      "displayName": "Vincent Vanhoucke",
      "isAnonymous": false,
      "isMe": true,
      "permissionId": "05076109866853157986",
      "photoUrl": "//lh6.googleusercontent.com/-cCJa7dTDcgQ/AAAAAAAAAAI/AAAAAAAACgw/r2EZ_8oYer4/s50-c-k-no/photo.jpg",
      "sessionId": "2f1ffade4c9f20de",
      "userId": "102167687554210253930"
     },
     "user_tz": 420
    },
    "id": "gAL1EECXeZsD",
    "outputId": "3fb4ecd1-df67-44b6-a2dc-2291730970b2"
   },
   "outputs": [
    {
     "name": "stdout",
     "output_type": "stream",
     "text": [
      "Most common words (+UNK) [['UNK', 418391], ('the', 1061396), ('of', 593677), ('and', 416629), ('one', 411764)]\n",
      "Sample data [5239, 3084, 12, 6, 195, 2, 3137, 46, 59, 156]\n"
     ]
    }
   ],
   "source": [
    "vocabulary_size = 50000\n",
    "\n",
    "def build_dataset(words):\n",
    "  count = [['UNK', -1]]\n",
    "  count.extend(collections.Counter(words).most_common(vocabulary_size - 1))\n",
    "  dictionary = dict()\n",
    "  for word, _ in count:\n",
    "    dictionary[word] = len(dictionary)\n",
    "  data = list()\n",
    "  unk_count = 0\n",
    "  for word in words:\n",
    "    if word in dictionary:\n",
    "      index = dictionary[word]\n",
    "    else:\n",
    "      index = 0  # dictionary['UNK']\n",
    "      unk_count = unk_count + 1\n",
    "    data.append(index)\n",
    "  count[0][1] = unk_count\n",
    "  reverse_dictionary = dict(zip(dictionary.values(), dictionary.keys())) \n",
    "  return data, count, dictionary, reverse_dictionary\n",
    "\n",
    "data, count, dictionary, reverse_dictionary = build_dataset(words)\n",
    "print('Most common words (+UNK)', count[:5])\n",
    "print('Sample data', data[:10])\n",
    "del words  # Hint to reduce memory."
   ]
  },
  {
   "cell_type": "markdown",
   "metadata": {
    "colab_type": "text",
    "id": "lFwoyygOmWsL"
   },
   "source": [
    "Function to generate a training batch for the skip-gram model."
   ]
  },
  {
   "cell_type": "code",
   "execution_count": 45,
   "metadata": {
    "cellView": "both",
    "colab": {
     "autoexec": {
      "startup": false,
      "wait_interval": 0
     },
     "output_extras": [
      {
       "item_id": 1
      }
     ]
    },
    "colab_type": "code",
    "collapsed": false,
    "executionInfo": {
     "elapsed": 113,
     "status": "ok",
     "timestamp": 1445964901989,
     "user": {
      "color": "#1FA15D",
      "displayName": "Vincent Vanhoucke",
      "isAnonymous": false,
      "isMe": true,
      "permissionId": "05076109866853157986",
      "photoUrl": "//lh6.googleusercontent.com/-cCJa7dTDcgQ/AAAAAAAAAAI/AAAAAAAACgw/r2EZ_8oYer4/s50-c-k-no/photo.jpg",
      "sessionId": "2f1ffade4c9f20de",
      "userId": "102167687554210253930"
     },
     "user_tz": 420
    },
    "id": "w9APjA-zmfjV",
    "outputId": "67cccb02-cdaf-4e47-d489-43bcc8d57bb8"
   },
   "outputs": [
    {
     "name": "stdout",
     "output_type": "stream",
     "text": [
      "data: ['anarchism', 'originated', 'as', 'a', 'term', 'of', 'abuse', 'first']\n",
      "\n",
      "with num_skips = 2 and skip_window = 1:\n",
      "    batch: ['originated', 'originated', 'as', 'as', 'a', 'a', 'term', 'term']\n",
      "    labels: ['as', 'anarchism', 'originated', 'a', 'term', 'as', 'a', 'of']\n",
      "\n",
      "with num_skips = 4 and skip_window = 2:\n",
      "    batch: ['as', 'as', 'as', 'as', 'a', 'a', 'a', 'a']\n",
      "    labels: ['originated', 'a', 'anarchism', 'term', 'originated', 'as', 'of', 'term']\n"
     ]
    }
   ],
   "source": [
    "data_index = 0\n",
    "\n",
    "def generate_batch(batch_size, num_skips, skip_window):\n",
    "  global data_index\n",
    "  assert batch_size % num_skips == 0\n",
    "  assert num_skips <= 2 * skip_window\n",
    "  batch = np.ndarray(shape=(batch_size), dtype=np.int32)\n",
    "  labels = np.ndarray(shape=(batch_size, 1), dtype=np.int32)\n",
    "  span = 2 * skip_window + 1 # [ skip_window target skip_window ]\n",
    "  buffer = collections.deque(maxlen=span)\n",
    "  for _ in range(span):\n",
    "    buffer.append(data[data_index])\n",
    "    data_index = (data_index + 1) % len(data)\n",
    "  for i in range(batch_size // num_skips):\n",
    "    target = skip_window  # target label at the center of the buffer\n",
    "    targets_to_avoid = [ skip_window ]\n",
    "    for j in range(num_skips):\n",
    "      while target in targets_to_avoid:\n",
    "        target = random.randint(0, span - 1)\n",
    "      targets_to_avoid.append(target)\n",
    "      batch[i * num_skips + j] = buffer[skip_window]\n",
    "      labels[i * num_skips + j, 0] = buffer[target]\n",
    "    buffer.append(data[data_index])\n",
    "    data_index = (data_index + 1) % len(data)\n",
    "  return batch, labels\n",
    "\n",
    "print('data:', [reverse_dictionary[di] for di in data[:8]])\n",
    "\n",
    "for num_skips, skip_window in [(2, 1), (4, 2)]:\n",
    "    data_index = 0\n",
    "    batch, labels = generate_batch(batch_size=8, num_skips=num_skips, skip_window=skip_window)\n",
    "    print('\\nwith num_skips = %d and skip_window = %d:' % (num_skips, skip_window))\n",
    "    print('    batch:', [reverse_dictionary[bi] for bi in batch])\n",
    "    print('    labels:', [reverse_dictionary[li] for li in labels.reshape(8)])"
   ]
  },
  {
   "cell_type": "markdown",
   "metadata": {
    "colab_type": "text",
    "id": "Ofd1MbBuwiva"
   },
   "source": [
    "Train a skip-gram model."
   ]
  },
  {
   "cell_type": "code",
   "execution_count": 46,
   "metadata": {
    "cellView": "both",
    "colab": {
     "autoexec": {
      "startup": false,
      "wait_interval": 0
     }
    },
    "colab_type": "code",
    "collapsed": true,
    "id": "8pQKsV4Vwlzy"
   },
   "outputs": [],
   "source": [
    "batch_size = 128\n",
    "embedding_size = 128 # Dimension of the embedding vector.\n",
    "skip_window = 1 # How many words to consider left and right.\n",
    "num_skips = 2 # How many times to reuse an input to generate a label.\n",
    "# We pick a random validation set to sample nearest neighbors. here we limit the\n",
    "# validation samples to the words that have a low numeric ID, which by\n",
    "# construction are also the most frequent. \n",
    "valid_size = 16 # Random set of words to evaluate similarity on.\n",
    "valid_window = 100 # Only pick dev samples in the head of the distribution.\n",
    "valid_examples = np.array(random.sample(range(valid_window), valid_size))\n",
    "num_sampled = 64 # Number of negative examples to sample.\n",
    "\n",
    "graph = tf.Graph()\n",
    "\n",
    "with graph.as_default(), tf.device('/cpu:0'):\n",
    "\n",
    "  # Input data.\n",
    "  train_dataset = tf.placeholder(tf.int32, shape=[batch_size])\n",
    "  train_labels = tf.placeholder(tf.int32, shape=[batch_size, 1])\n",
    "  valid_dataset = tf.constant(valid_examples, dtype=tf.int32)\n",
    "  \n",
    "  # Variables.\n",
    "  embeddings = tf.Variable(\n",
    "    tf.random_uniform([vocabulary_size, embedding_size], -1.0, 1.0))\n",
    "  softmax_weights = tf.Variable(\n",
    "    tf.truncated_normal([vocabulary_size, embedding_size],\n",
    "                         stddev=1.0 / math.sqrt(embedding_size)))\n",
    "  softmax_biases = tf.Variable(tf.zeros([vocabulary_size]))\n",
    "  \n",
    "  # Model.\n",
    "  # Look up embeddings for inputs.\n",
    "  embed = tf.nn.embedding_lookup(embeddings, train_dataset)\n",
    "  # Compute the softmax loss, using a sample of the negative labels each time.\n",
    "  loss = tf.reduce_mean(\n",
    "    tf.nn.sampled_softmax_loss(softmax_weights, softmax_biases, embed,\n",
    "                               train_labels, num_sampled, vocabulary_size))\n",
    "\n",
    "  # Optimizer.\n",
    "  # Note: The optimizer will optimize the softmax_weights AND the embeddings.\n",
    "  # This is because the embeddings are defined as a variable quantity and the\n",
    "  # optimizer's `minimize` method will by default modify all variable quantities \n",
    "  # that contribute to the tensor it is passed.\n",
    "  # See docs on `tf.train.Optimizer.minimize()` for more details.\n",
    "  optimizer = tf.train.AdagradOptimizer(1.0).minimize(loss)\n",
    "  \n",
    "  # Compute the similarity between minibatch examples and all embeddings.\n",
    "  # We use the cosine distance:\n",
    "  norm = tf.sqrt(tf.reduce_sum(tf.square(embeddings), 1, keep_dims=True))\n",
    "  normalized_embeddings = embeddings / norm\n",
    "  valid_embeddings = tf.nn.embedding_lookup(\n",
    "    normalized_embeddings, valid_dataset)\n",
    "  similarity = tf.matmul(valid_embeddings, tf.transpose(normalized_embeddings))"
   ]
  },
  {
   "cell_type": "code",
   "execution_count": 47,
   "metadata": {
    "cellView": "both",
    "colab": {
     "autoexec": {
      "startup": false,
      "wait_interval": 0
     },
     "output_extras": [
      {
       "item_id": 23
      },
      {
       "item_id": 48
      },
      {
       "item_id": 61
      }
     ]
    },
    "colab_type": "code",
    "collapsed": false,
    "executionInfo": {
     "elapsed": 436189,
     "status": "ok",
     "timestamp": 1445965429787,
     "user": {
      "color": "#1FA15D",
      "displayName": "Vincent Vanhoucke",
      "isAnonymous": false,
      "isMe": true,
      "permissionId": "05076109866853157986",
      "photoUrl": "//lh6.googleusercontent.com/-cCJa7dTDcgQ/AAAAAAAAAAI/AAAAAAAACgw/r2EZ_8oYer4/s50-c-k-no/photo.jpg",
      "sessionId": "2f1ffade4c9f20de",
      "userId": "102167687554210253930"
     },
     "user_tz": 420
    },
    "id": "1bQFGceBxrWW",
    "outputId": "5ebd6d9a-33c6-4bcd-bf6d-252b0b6055e4"
   },
   "outputs": [
    {
     "name": "stdout",
     "output_type": "stream",
     "text": [
      "Initialized\n",
      "Average loss at step 0: 7.771288\n",
      "Nearest to b: reuss, agrees, intensity, barrios, intergovernmental, holiness, misleading, katha,\n",
      "Nearest to than: controversially, warps, flyby, breathtaking, rolland, rushdie, horrific, casein,\n",
      "Nearest to one: hiv, casale, aus, adapter, shea, crosses, schloss, soddy,\n",
      "Nearest to this: shiki, multipoint, cryptanalysis, reservations, branden, clitoris, copper, minerva,\n",
      "Nearest to are: metaphysical, provision, widgery, submits, zohar, yankees, personae, agate,\n",
      "Nearest to other: salad, acknowledge, stairway, lancashire, councils, guthrie, animals, difference,\n",
      "Nearest to have: hummer, dub, surreptitiously, reassigned, theosophy, palestine, sarasota, benchmarks,\n",
      "Nearest to his: precludes, torches, sonny, gritty, gizzard, tus, uncommon, numbered,\n",
      "Nearest to all: group, subtract, risorgimento, assassinate, bantu, seigenthaler, albanian, tombaugh,\n",
      "Nearest to history: bhfiann, invented, chondrites, libertarians, poorest, johnstone, neptunian, compl,\n",
      "Nearest to use: comparison, centronics, cautiously, tesla, madam, kombinate, accidentally, papua,\n",
      "Nearest to eight: earlier, implements, constipation, hatch, pomp, vents, benetton, elbl,\n",
      "Nearest to however: divers, powerplant, mato, serpents, ceasefire, fredrik, sarcastic, catches,\n",
      "Nearest to during: charioteer, confirmed, european, kalahari, lavin, ruskin, ellis, porvoo,\n",
      "Nearest to s: nanosystems, laughter, september, required, geschichte, tyrants, interfere, kirov,\n",
      "Nearest to of: chandler, lundy, macduff, wrestling, hamar, maxi, dkk, manually,\n",
      "Average loss at step 2000: 4.362003\n",
      "Average loss at step 4000: 3.864499\n",
      "Average loss at step 6000: 3.788442\n",
      "Average loss at step 8000: 3.684869\n",
      "Average loss at step 10000: 3.609884\n",
      "Nearest to b: d, misleading, intensity, reuss, lithium, forming, fibre, barrios,\n",
      "Nearest to than: controversially, cheese, horrific, chattanooga, emergent, ishiro, anhui, parentage,\n",
      "Nearest to one: two, three, seven, six, four, eight, five, zero,\n",
      "Nearest to this: it, the, which, minerva, a, that, admit, callaghan,\n",
      "Nearest to are: were, is, have, was, stave, ferdinando, legalism, zohar,\n",
      "Nearest to other: slovenes, catapulted, fl, animals, activex, many, sniff, hird,\n",
      "Nearest to have: has, be, had, are, were, childish, consenting, motivational,\n",
      "Nearest to his: their, s, the, its, her, sign, named, ibid,\n",
      "Nearest to all: lusignan, seigenthaler, some, diva, theological, tolstoy, most, risorgimento,\n",
      "Nearest to history: johnstone, bhfiann, georgian, neptunian, circ, invented, poorest, libertarians,\n",
      "Nearest to use: madam, cautiously, assemblages, stopping, sand, vat, theobromine, uttering,\n",
      "Nearest to eight: nine, five, six, seven, four, three, zero, two,\n",
      "Nearest to however: fujiwara, creeping, dublin, treats, aafc, authentication, nitrogen, stranded,\n",
      "Nearest to during: european, after, at, from, when, lavin, tagging, alegre,\n",
      "Nearest to s: his, and, basse, daisies, antitrust, was, rickey, censorship,\n",
      "Nearest to of: in, for, although, and, during, scotus, mobs, expire,\n",
      "Average loss at step 12000: 3.601273\n",
      "Average loss at step 14000: 3.578153\n",
      "Average loss at step 16000: 3.408242\n",
      "Average loss at step 18000: 3.449945\n",
      "Average loss at step 20000: 3.540117\n",
      "Nearest to b: d, garden, lithium, dbm, gre, vantage, rename, misleading,\n",
      "Nearest to than: or, cheese, horrific, chattanooga, controversially, eudoxia, freenet, mohiam,\n",
      "Nearest to one: two, four, three, six, seven, five, zero, eight,\n",
      "Nearest to this: which, it, either, minerva, his, each, some, the,\n",
      "Nearest to are: were, is, have, myrna, was, deianira, stave, be,\n",
      "Nearest to other: many, hird, slovenes, different, fl, activex, various, some,\n",
      "Nearest to have: had, has, were, are, be, childish, motivational, luc,\n",
      "Nearest to his: their, her, its, the, some, this, simulates, whose,\n",
      "Nearest to all: these, some, those, diva, many, mason, most, seigenthaler,\n",
      "Nearest to history: bhfiann, johnstone, yin, residents, bug, school, georgian, poorest,\n",
      "Nearest to use: madam, assemblages, all, cautiously, uttering, stopping, boone, paleontologist,\n",
      "Nearest to eight: nine, six, seven, four, three, five, zero, two,\n",
      "Nearest to however: but, though, fujiwara, creeping, took, although, vows, treats,\n",
      "Nearest to during: at, after, from, european, in, when, porvoo, contralto,\n",
      "Nearest to s: antitrust, underlying, basse, emulators, separatist, lazar, burke, vassals,\n",
      "Nearest to of: for, reuse, telegram, mer, in, great, from, russel,\n",
      "Average loss at step 22000: 3.503160\n",
      "Average loss at step 24000: 3.489850\n",
      "Average loss at step 26000: 3.475175\n",
      "Average loss at step 28000: 3.478413\n",
      "Average loss at step 30000: 3.502472\n",
      "Nearest to b: d, vantage, benjamin, garden, lithium, gre, equivalently, heretical,\n",
      "Nearest to than: horrific, chattanooga, hipper, mohiam, binyamin, emergent, or, cheese,\n",
      "Nearest to one: two, seven, four, three, six, five, eight, zero,\n",
      "Nearest to this: which, it, the, what, minerva, any, some, that,\n",
      "Nearest to are: were, have, is, while, be, stave, myrna, mitsuda,\n",
      "Nearest to other: many, some, different, slovenes, hird, coleridge, these, various,\n",
      "Nearest to have: had, has, are, were, be, childish, having, buckland,\n",
      "Nearest to his: their, her, its, the, simulates, s, our, a,\n",
      "Nearest to all: these, many, those, some, crying, capped, breaches, use,\n",
      "Nearest to history: school, eskimos, inconvenience, motion, johnstone, georgian, development, bug,\n",
      "Nearest to use: assemblages, comparison, stopping, uttering, buckland, all, parametric, stainless,\n",
      "Nearest to eight: seven, nine, six, five, four, three, zero, two,\n",
      "Nearest to however: although, though, but, fujiwara, shivaji, creeping, that, when,\n",
      "Nearest to during: after, at, in, when, before, from, invitation, european,\n",
      "Nearest to s: antitrust, his, and, kenilworth, latinate, presiding, lazar, lynn,\n",
      "Nearest to of: in, and, against, ishiro, including, corrie, for, viable,\n",
      "Average loss at step 32000: 3.494546\n",
      "Average loss at step 34000: 3.492385\n",
      "Average loss at step 36000: 3.453019\n",
      "Average loss at step 38000: 3.298385\n",
      "Average loss at step 40000: 3.432414\n",
      "Nearest to b: d, equivalently, r, e, lustrous, p, benjamin, lust,\n",
      "Nearest to than: or, much, horrific, chattanooga, eikon, shillings, agile, binyamin,\n",
      "Nearest to one: seven, two, four, six, eight, five, three, zero,\n",
      "Nearest to this: which, it, the, another, any, that, irritated, he,\n",
      "Nearest to are: were, have, is, include, myrna, be, but, these,\n",
      "Nearest to other: different, various, some, many, slovenes, hird, overloading, abaci,\n",
      "Nearest to have: had, has, were, are, be, childish, pfc, include,\n",
      "Nearest to his: their, her, its, the, whose, simulates, s, my,\n",
      "Nearest to all: these, powers, both, many, manukau, two, three, any,\n",
      "Nearest to history: list, development, inconvenience, tigrinya, buttstock, wave, repeal, organization,\n",
      "Nearest to use: assemblages, course, form, uttering, buckland, comparison, represent, stopping,\n",
      "Nearest to eight: nine, seven, six, five, four, three, zero, two,\n",
      "Nearest to however: but, although, though, fujiwara, shivaji, that, vows, creeping,\n",
      "Nearest to during: after, at, before, under, from, when, suk, against,\n",
      "Nearest to s: antitrust, his, advisory, remainders, overly, reissue, maths, her,\n",
      "Nearest to of: in, voiceless, ramon, fortnight, pandemonium, mer, ld, and,\n",
      "Average loss at step 42000: 3.433118\n",
      "Average loss at step 44000: 3.456437\n",
      "Average loss at step 46000: 3.451256\n",
      "Average loss at step 48000: 3.352217\n",
      "Average loss at step 50000: 3.386277\n",
      "Nearest to b: d, r, equivalently, p, lust, maclaurin, vos, c,\n",
      "Nearest to than: or, much, agile, euros, gardeners, shillings, hipper, unfiltered,\n",
      "Nearest to one: two, six, four, eight, seven, three, five, zero,\n",
      "Nearest to this: which, it, the, another, clitoris, he, irritated, coli,\n",
      "Nearest to are: were, is, have, be, include, these, myrna, ferdinando,\n",
      "Nearest to other: various, different, some, musicianship, slovenes, abaci, activex, many,\n",
      "Nearest to have: had, has, were, are, be, childish, never, having,\n",
      "Nearest to his: their, her, its, our, my, your, whose, simulates,\n",
      "Nearest to all: these, various, deified, both, capped, every, some, those,\n",
      "Nearest to history: list, buttstock, repeal, tigrinya, development, moreover, hathor, conservatism,\n",
      "Nearest to use: course, boone, form, change, kind, uttering, comparison, assemblages,\n",
      "Nearest to eight: six, seven, four, nine, five, three, zero, two,\n",
      "Nearest to however: but, although, though, that, when, shivaji, while, maureen,\n",
      "Nearest to during: after, at, in, from, when, before, within, under,\n",
      "Nearest to s: his, antitrust, superoxide, latinate, synchronisation, ribozymes, regnum, replicator,\n",
      "Nearest to of: and, in, including, burlington, fortnight, principal, during, modem,\n",
      "Average loss at step 52000: 3.439656\n",
      "Average loss at step 54000: 3.427498\n",
      "Average loss at step 56000: 3.440124\n",
      "Average loss at step 58000: 3.395700\n",
      "Average loss at step 60000: 3.395572\n",
      "Nearest to b: d, r, p, f, equivalently, n, m, maclaurin,\n",
      "Nearest to than: much, or, and, but, agile, euros, subtitling, shillings,\n",
      "Nearest to one: two, four, eight, six, seven, nine, three, five,\n",
      "Nearest to this: it, which, the, there, that, some, sufficient, jutsu,\n",
      "Nearest to are: were, is, have, include, these, including, ferdinando, those,\n",
      "Nearest to other: different, various, abaci, slovenes, some, practical, many, more,\n",
      "Nearest to have: had, has, were, are, childish, having, require, include,\n",
      "Nearest to his: her, their, its, my, our, the, simulates, him,\n",
      "Nearest to all: many, various, these, some, those, both, deified, every,\n",
      "Nearest to history: list, development, phonemic, demographics, comforts, buttstock, hiring, organization,\n",
      "Nearest to use: boone, most, course, sense, triumphant, form, bachelor, stopping,\n",
      "Nearest to eight: nine, seven, six, four, five, three, two, zero,\n",
      "Nearest to however: although, but, though, that, when, shivaji, which, since,\n",
      "Nearest to during: after, before, although, at, following, within, in, when,\n",
      "Nearest to s: antitrust, whose, kenilworth, basse, allowable, his, her, your,\n",
      "Nearest to of: for, in, same, magical, like, yoko, corrie, including,\n",
      "Average loss at step 62000: 3.242783\n",
      "Average loss at step 64000: 3.254389\n",
      "Average loss at step 66000: 3.400219\n",
      "Average loss at step 68000: 3.395829\n",
      "Average loss at step 70000: 3.355850\n",
      "Nearest to b: d, f, r, n, p, equivalently, vos, h,\n",
      "Nearest to than: or, resume, much, shillings, agile, nameserver, gardeners, eikon,\n",
      "Nearest to one: two, six, four, seven, eight, five, zero, nine,\n",
      "Nearest to this: which, it, the, some, there, that, ezln, another,\n",
      "Nearest to are: were, is, include, have, these, be, although, while,\n",
      "Nearest to other: different, various, older, musicianship, practical, itunes, slovenes, alkaline,\n",
      "Nearest to have: had, has, were, are, having, include, childish, be,\n",
      "Nearest to his: her, their, its, my, your, simulates, our, him,\n",
      "Nearest to all: many, various, every, some, those, any, both, these,\n",
      "Nearest to history: list, development, moreover, aberystwyth, obligation, cil, hiring, buttstock,\n",
      "Nearest to use: form, most, protect, triumphant, change, leads, sense, using,\n",
      "Nearest to eight: nine, six, seven, four, five, three, zero, one,\n",
      "Nearest to however: but, although, though, while, when, that, where, shivaji,\n",
      "Nearest to during: after, within, before, at, following, in, until, although,\n",
      "Nearest to s: whose, your, antitrust, must, andries, wilkes, wraps, the,\n",
      "Nearest to of: including, in, burlington, and, although, modem, reuse, include,\n",
      "Average loss at step 72000: 3.370406\n",
      "Average loss at step 74000: 3.347288\n",
      "Average loss at step 76000: 3.318896\n",
      "Average loss at step 78000: 3.349257\n",
      "Average loss at step 80000: 3.378772\n",
      "Nearest to b: d, f, r, p, equivalently, maclaurin, vos, lighthouses,\n",
      "Nearest to than: much, or, and, resume, akademia, nameserver, salient, but,\n",
      "Nearest to one: seven, two, six, four, eight, five, three, nine,\n",
      "Nearest to this: which, it, another, the, demanding, that, asphyxia, considerable,\n",
      "Nearest to are: were, have, include, is, although, these, those, being,\n",
      "Nearest to other: various, different, older, abaci, practical, others, musicianship, slovenes,\n",
      "Nearest to have: had, has, are, were, be, having, represent, childish,\n",
      "Nearest to his: her, their, my, its, our, your, whose, simulates,\n",
      "Nearest to all: every, both, various, many, any, descended, mason, deified,\n",
      "Nearest to history: list, development, buttstock, einstein, obligation, aberystwyth, repeal, cil,\n",
      "Nearest to use: form, list, triumphant, course, because, sense, change, protect,\n",
      "Nearest to eight: nine, six, five, seven, four, three, zero, one,\n",
      "Nearest to however: although, but, though, that, shivaji, while, they, where,\n",
      "Nearest to during: after, in, when, before, within, at, throughout, although,\n",
      "Nearest to s: activates, antitrust, isbn, fm, schumacher, babbage, wraps, iir,\n",
      "Nearest to of: including, in, burlington, corrie, bonewits, during, at, after,\n",
      "Average loss at step 82000: 3.410745\n",
      "Average loss at step 84000: 3.410091\n",
      "Average loss at step 86000: 3.388141\n",
      "Average loss at step 88000: 3.354070\n",
      "Average loss at step 90000: 3.365917\n",
      "Nearest to b: d, f, equivalently, maclaurin, r, n, blasphemous, mickey,\n",
      "Nearest to than: akademia, much, nameserver, resume, eikon, euros, but, doorways,\n",
      "Nearest to one: seven, two, four, eight, six, three, five, zero,\n",
      "Nearest to this: it, which, the, some, another, there, these, ezln,\n",
      "Nearest to are: were, is, include, have, these, although, being, encyclopedias,\n",
      "Nearest to other: various, older, different, practical, abaci, activex, musicianship, australis,\n",
      "Nearest to have: had, has, were, childish, are, be, having, require,\n",
      "Nearest to his: her, their, its, my, your, our, whose, the,\n",
      "Nearest to all: various, both, many, every, these, deified, several, some,\n",
      "Nearest to history: list, buttstock, development, hh, culture, obligation, loyola, repeal,\n",
      "Nearest to use: change, sense, list, course, form, most, triumphant, parametric,\n",
      "Nearest to eight: seven, five, nine, six, four, three, zero, two,\n",
      "Nearest to however: but, although, though, that, since, while, aristocrat, shivaji,\n",
      "Nearest to during: after, before, in, at, when, within, while, throughout,\n",
      "Nearest to s: isbn, stain, his, your, allowable, antitrust, whose, functionals,\n",
      "Nearest to of: including, in, burlington, for, ultimate, sealand, segal, booster,\n",
      "Average loss at step 92000: 3.395363\n",
      "Average loss at step 94000: 3.248850\n",
      "Average loss at step 96000: 3.357088\n",
      "Average loss at step 98000: 3.243702\n",
      "Average loss at step 100000: 3.357695\n",
      "Nearest to b: d, fetching, equivalently, marshall, vantage, coder, knocking, c,\n",
      "Nearest to than: or, akademia, eikon, resume, nameserver, much, but, tasks,\n",
      "Nearest to one: two, seven, four, five, six, eight, three, zero,\n",
      "Nearest to this: it, which, another, he, some, the, irrationality, canceled,\n",
      "Nearest to are: were, have, these, those, is, be, although, ferdinando,\n",
      "Nearest to other: abaci, various, older, musicianship, practical, others, different, activex,\n",
      "Nearest to have: had, has, were, are, be, require, represent, having,\n",
      "Nearest to his: her, their, my, your, our, its, the, whose,\n",
      "Nearest to all: various, every, many, these, several, deified, any, some,\n",
      "Nearest to history: list, culture, development, buttstock, geography, repeal, carcinogen, bug,\n",
      "Nearest to use: sense, list, form, change, triumphant, course, uttering, stopping,\n",
      "Nearest to eight: seven, nine, six, four, five, three, zero, two,\n",
      "Nearest to however: but, although, that, especially, though, shivaji, while, aristocrat,\n",
      "Nearest to during: in, after, when, throughout, within, before, until, through,\n",
      "Nearest to s: whose, your, his, edison, cocoon, thibetanus, antitrust, isbn,\n",
      "Nearest to of: and, in, corrie, including, burlington, seditious, after, nuba,\n"
     ]
    }
   ],
   "source": [
    "num_steps = 100001\n",
    "\n",
    "with tf.Session(graph=graph) as session:\n",
    "  tf.initialize_all_variables().run()\n",
    "  print('Initialized')\n",
    "  average_loss = 0\n",
    "  for step in range(num_steps):\n",
    "    batch_data, batch_labels = generate_batch(\n",
    "      batch_size, num_skips, skip_window)\n",
    "    feed_dict = {train_dataset : batch_data, train_labels : batch_labels}\n",
    "    _, l = session.run([optimizer, loss], feed_dict=feed_dict)\n",
    "    average_loss += l\n",
    "    if step % 2000 == 0:\n",
    "      if step > 0:\n",
    "        average_loss = average_loss / 2000\n",
    "      # The average loss is an estimate of the loss over the last 2000 batches.\n",
    "      print('Average loss at step %d: %f' % (step, average_loss))\n",
    "      average_loss = 0\n",
    "    # note that this is expensive (~20% slowdown if computed every 500 steps)\n",
    "    if step % 10000 == 0:\n",
    "      sim = similarity.eval()\n",
    "      for i in range(valid_size):\n",
    "        valid_word = reverse_dictionary[valid_examples[i]]\n",
    "        top_k = 8 # number of nearest neighbors\n",
    "        nearest = (-sim[i, :]).argsort()[1:top_k+1]\n",
    "        log = 'Nearest to %s:' % valid_word\n",
    "        for k in range(top_k):\n",
    "          close_word = reverse_dictionary[nearest[k]]\n",
    "          log = '%s %s,' % (log, close_word)\n",
    "        print(log)\n",
    "  final_embeddings = normalized_embeddings.eval()"
   ]
  },
  {
   "cell_type": "code",
   "execution_count": 49,
   "metadata": {
    "cellView": "both",
    "colab": {
     "autoexec": {
      "startup": false,
      "wait_interval": 0
     }
    },
    "colab_type": "code",
    "collapsed": false,
    "id": "jjJXYA_XzV79"
   },
   "outputs": [
    {
     "ename": "ValueError",
     "evalue": "array must not contain infs or NaNs",
     "output_type": "error",
     "traceback": [
      "\u001b[0;31m---------------------------------------------------------------------------\u001b[0m",
      "\u001b[0;31mValueError\u001b[0m                                Traceback (most recent call last)",
      "\u001b[0;32m<ipython-input-49-f70c03698d67>\u001b[0m in \u001b[0;36m<module>\u001b[0;34m()\u001b[0m\n\u001b[1;32m      2\u001b[0m \u001b[0;34m\u001b[0m\u001b[0m\n\u001b[1;32m      3\u001b[0m \u001b[0mtsne\u001b[0m \u001b[0;34m=\u001b[0m \u001b[0mTSNE\u001b[0m\u001b[0;34m(\u001b[0m\u001b[0mperplexity\u001b[0m\u001b[0;34m=\u001b[0m\u001b[0;36m30\u001b[0m\u001b[0;34m,\u001b[0m \u001b[0mn_components\u001b[0m\u001b[0;34m=\u001b[0m\u001b[0;36m2\u001b[0m\u001b[0;34m,\u001b[0m \u001b[0minit\u001b[0m\u001b[0;34m=\u001b[0m\u001b[0;34m'pca'\u001b[0m\u001b[0;34m,\u001b[0m \u001b[0mn_iter\u001b[0m\u001b[0;34m=\u001b[0m\u001b[0;36m5000\u001b[0m\u001b[0;34m)\u001b[0m\u001b[0;34m\u001b[0m\u001b[0m\n\u001b[0;32m----> 4\u001b[0;31m \u001b[0mtwo_d_embeddings\u001b[0m \u001b[0;34m=\u001b[0m \u001b[0mtsne\u001b[0m\u001b[0;34m.\u001b[0m\u001b[0mfit_transform\u001b[0m\u001b[0;34m(\u001b[0m\u001b[0mfinal_embeddings\u001b[0m\u001b[0;34m[\u001b[0m\u001b[0;36m1\u001b[0m\u001b[0;34m:\u001b[0m\u001b[0mnum_points\u001b[0m\u001b[0;34m+\u001b[0m\u001b[0;36m1\u001b[0m\u001b[0;34m,\u001b[0m \u001b[0;34m:\u001b[0m\u001b[0;34m]\u001b[0m\u001b[0;34m)\u001b[0m\u001b[0;34m\u001b[0m\u001b[0m\n\u001b[0m",
      "\u001b[0;32m/Users/tongwang/anaconda/lib/python2.7/site-packages/sklearn/manifold/t_sne.pyc\u001b[0m in \u001b[0;36mfit_transform\u001b[0;34m(self, X, y)\u001b[0m\n\u001b[1;32m    864\u001b[0m             \u001b[0mEmbedding\u001b[0m \u001b[0mof\u001b[0m \u001b[0mthe\u001b[0m \u001b[0mtraining\u001b[0m \u001b[0mdata\u001b[0m \u001b[0;32min\u001b[0m \u001b[0mlow\u001b[0m\u001b[0;34m-\u001b[0m\u001b[0mdimensional\u001b[0m \u001b[0mspace\u001b[0m\u001b[0;34m.\u001b[0m\u001b[0;34m\u001b[0m\u001b[0m\n\u001b[1;32m    865\u001b[0m         \"\"\"\n\u001b[0;32m--> 866\u001b[0;31m         \u001b[0membedding\u001b[0m \u001b[0;34m=\u001b[0m \u001b[0mself\u001b[0m\u001b[0;34m.\u001b[0m\u001b[0m_fit\u001b[0m\u001b[0;34m(\u001b[0m\u001b[0mX\u001b[0m\u001b[0;34m)\u001b[0m\u001b[0;34m\u001b[0m\u001b[0m\n\u001b[0m\u001b[1;32m    867\u001b[0m         \u001b[0mself\u001b[0m\u001b[0;34m.\u001b[0m\u001b[0membedding_\u001b[0m \u001b[0;34m=\u001b[0m \u001b[0membedding\u001b[0m\u001b[0;34m\u001b[0m\u001b[0m\n\u001b[1;32m    868\u001b[0m         \u001b[0;32mreturn\u001b[0m \u001b[0mself\u001b[0m\u001b[0;34m.\u001b[0m\u001b[0membedding_\u001b[0m\u001b[0;34m\u001b[0m\u001b[0m\n",
      "\u001b[0;32m/Users/tongwang/anaconda/lib/python2.7/site-packages/sklearn/manifold/t_sne.pyc\u001b[0m in \u001b[0;36m_fit\u001b[0;34m(self, X, skip_num_points)\u001b[0m\n\u001b[1;32m    775\u001b[0m                           \u001b[0mX_embedded\u001b[0m\u001b[0;34m=\u001b[0m\u001b[0mX_embedded\u001b[0m\u001b[0;34m,\u001b[0m\u001b[0;34m\u001b[0m\u001b[0m\n\u001b[1;32m    776\u001b[0m                           \u001b[0mneighbors\u001b[0m\u001b[0;34m=\u001b[0m\u001b[0mneighbors_nn\u001b[0m\u001b[0;34m,\u001b[0m\u001b[0;34m\u001b[0m\u001b[0m\n\u001b[0;32m--> 777\u001b[0;31m                           skip_num_points=skip_num_points)\n\u001b[0m\u001b[1;32m    778\u001b[0m \u001b[0;34m\u001b[0m\u001b[0m\n\u001b[1;32m    779\u001b[0m     def _tsne(self, P, degrees_of_freedom, n_samples, random_state,\n",
      "\u001b[0;32m/Users/tongwang/anaconda/lib/python2.7/site-packages/sklearn/manifold/t_sne.pyc\u001b[0m in \u001b[0;36m_tsne\u001b[0;34m(self, P, degrees_of_freedom, n_samples, random_state, X_embedded, neighbors, skip_num_points)\u001b[0m\n\u001b[1;32m    830\u001b[0m         \u001b[0mopt_args\u001b[0m\u001b[0;34m[\u001b[0m\u001b[0;34m'momentum'\u001b[0m\u001b[0;34m]\u001b[0m \u001b[0;34m=\u001b[0m \u001b[0;36m0.8\u001b[0m\u001b[0;34m\u001b[0m\u001b[0m\n\u001b[1;32m    831\u001b[0m         \u001b[0mopt_args\u001b[0m\u001b[0;34m[\u001b[0m\u001b[0;34m'it'\u001b[0m\u001b[0;34m]\u001b[0m \u001b[0;34m=\u001b[0m \u001b[0mit\u001b[0m \u001b[0;34m+\u001b[0m \u001b[0;36m1\u001b[0m\u001b[0;34m\u001b[0m\u001b[0m\n\u001b[0;32m--> 832\u001b[0;31m         \u001b[0mparams\u001b[0m\u001b[0;34m,\u001b[0m \u001b[0merror\u001b[0m\u001b[0;34m,\u001b[0m \u001b[0mit\u001b[0m \u001b[0;34m=\u001b[0m \u001b[0m_gradient_descent\u001b[0m\u001b[0;34m(\u001b[0m\u001b[0mobj_func\u001b[0m\u001b[0;34m,\u001b[0m \u001b[0mparams\u001b[0m\u001b[0;34m,\u001b[0m \u001b[0;34m**\u001b[0m\u001b[0mopt_args\u001b[0m\u001b[0;34m)\u001b[0m\u001b[0;34m\u001b[0m\u001b[0m\n\u001b[0m\u001b[1;32m    833\u001b[0m         \u001b[0;32mif\u001b[0m \u001b[0mself\u001b[0m\u001b[0;34m.\u001b[0m\u001b[0mverbose\u001b[0m\u001b[0;34m:\u001b[0m\u001b[0;34m\u001b[0m\u001b[0m\n\u001b[1;32m    834\u001b[0m             print(\"[t-SNE] Error after %d iterations with early \"\n",
      "\u001b[0;32m/Users/tongwang/anaconda/lib/python2.7/site-packages/sklearn/manifold/t_sne.pyc\u001b[0m in \u001b[0;36m_gradient_descent\u001b[0;34m(objective, p0, it, n_iter, objective_error, n_iter_check, n_iter_without_progress, momentum, learning_rate, min_gain, min_grad_norm, min_error_diff, verbose, args, kwargs)\u001b[0m\n\u001b[1;32m    385\u001b[0m     \u001b[0;32mfor\u001b[0m \u001b[0mi\u001b[0m \u001b[0;32min\u001b[0m \u001b[0mrange\u001b[0m\u001b[0;34m(\u001b[0m\u001b[0mit\u001b[0m\u001b[0;34m,\u001b[0m \u001b[0mn_iter\u001b[0m\u001b[0;34m)\u001b[0m\u001b[0;34m:\u001b[0m\u001b[0;34m\u001b[0m\u001b[0m\n\u001b[1;32m    386\u001b[0m         \u001b[0mnew_error\u001b[0m\u001b[0;34m,\u001b[0m \u001b[0mgrad\u001b[0m \u001b[0;34m=\u001b[0m \u001b[0mobjective\u001b[0m\u001b[0;34m(\u001b[0m\u001b[0mp\u001b[0m\u001b[0;34m,\u001b[0m \u001b[0;34m*\u001b[0m\u001b[0margs\u001b[0m\u001b[0;34m,\u001b[0m \u001b[0;34m**\u001b[0m\u001b[0mkwargs\u001b[0m\u001b[0;34m)\u001b[0m\u001b[0;34m\u001b[0m\u001b[0m\n\u001b[0;32m--> 387\u001b[0;31m         \u001b[0mgrad_norm\u001b[0m \u001b[0;34m=\u001b[0m \u001b[0mlinalg\u001b[0m\u001b[0;34m.\u001b[0m\u001b[0mnorm\u001b[0m\u001b[0;34m(\u001b[0m\u001b[0mgrad\u001b[0m\u001b[0;34m)\u001b[0m\u001b[0;34m\u001b[0m\u001b[0m\n\u001b[0m\u001b[1;32m    388\u001b[0m \u001b[0;34m\u001b[0m\u001b[0m\n\u001b[1;32m    389\u001b[0m         \u001b[0minc\u001b[0m \u001b[0;34m=\u001b[0m \u001b[0mupdate\u001b[0m \u001b[0;34m*\u001b[0m \u001b[0mgrad\u001b[0m \u001b[0;34m>=\u001b[0m \u001b[0;36m0.0\u001b[0m\u001b[0;34m\u001b[0m\u001b[0m\n",
      "\u001b[0;32m/Users/tongwang/anaconda/lib/python2.7/site-packages/scipy/linalg/misc.pyc\u001b[0m in \u001b[0;36mnorm\u001b[0;34m(a, ord, axis, keepdims)\u001b[0m\n\u001b[1;32m    127\u001b[0m     \"\"\"\n\u001b[1;32m    128\u001b[0m     \u001b[0;31m# Differs from numpy only in non-finite handling and the use of blas.\u001b[0m\u001b[0;34m\u001b[0m\u001b[0;34m\u001b[0m\u001b[0m\n\u001b[0;32m--> 129\u001b[0;31m     \u001b[0ma\u001b[0m \u001b[0;34m=\u001b[0m \u001b[0mnp\u001b[0m\u001b[0;34m.\u001b[0m\u001b[0masarray_chkfinite\u001b[0m\u001b[0;34m(\u001b[0m\u001b[0ma\u001b[0m\u001b[0;34m)\u001b[0m\u001b[0;34m\u001b[0m\u001b[0m\n\u001b[0m\u001b[1;32m    130\u001b[0m \u001b[0;34m\u001b[0m\u001b[0m\n\u001b[1;32m    131\u001b[0m     \u001b[0;31m# Only use optimized norms if axis and keepdims are not specified.\u001b[0m\u001b[0;34m\u001b[0m\u001b[0;34m\u001b[0m\u001b[0m\n",
      "\u001b[0;32m/Users/tongwang/anaconda/lib/python2.7/site-packages/numpy/lib/function_base.pyc\u001b[0m in \u001b[0;36masarray_chkfinite\u001b[0;34m(a, dtype, order)\u001b[0m\n\u001b[1;32m   1031\u001b[0m     \u001b[0;32mif\u001b[0m \u001b[0ma\u001b[0m\u001b[0;34m.\u001b[0m\u001b[0mdtype\u001b[0m\u001b[0;34m.\u001b[0m\u001b[0mchar\u001b[0m \u001b[0;32min\u001b[0m \u001b[0mtypecodes\u001b[0m\u001b[0;34m[\u001b[0m\u001b[0;34m'AllFloat'\u001b[0m\u001b[0;34m]\u001b[0m \u001b[0;32mand\u001b[0m \u001b[0;32mnot\u001b[0m \u001b[0mnp\u001b[0m\u001b[0;34m.\u001b[0m\u001b[0misfinite\u001b[0m\u001b[0;34m(\u001b[0m\u001b[0ma\u001b[0m\u001b[0;34m)\u001b[0m\u001b[0;34m.\u001b[0m\u001b[0mall\u001b[0m\u001b[0;34m(\u001b[0m\u001b[0;34m)\u001b[0m\u001b[0;34m:\u001b[0m\u001b[0;34m\u001b[0m\u001b[0m\n\u001b[1;32m   1032\u001b[0m         raise ValueError(\n\u001b[0;32m-> 1033\u001b[0;31m             \"array must not contain infs or NaNs\")\n\u001b[0m\u001b[1;32m   1034\u001b[0m     \u001b[0;32mreturn\u001b[0m \u001b[0ma\u001b[0m\u001b[0;34m\u001b[0m\u001b[0m\n\u001b[1;32m   1035\u001b[0m \u001b[0;34m\u001b[0m\u001b[0m\n",
      "\u001b[0;31mValueError\u001b[0m: array must not contain infs or NaNs"
     ]
    }
   ],
   "source": [
    "num_points = 400\n",
    "\n",
    "tsne = TSNE(perplexity=30, n_components=2, init='pca', n_iter=5000)\n",
    "two_d_embeddings = tsne.fit_transform(final_embeddings[1:num_points+1, :])"
   ]
  },
  {
   "cell_type": "code",
   "execution_count": 50,
   "metadata": {
    "cellView": "both",
    "colab": {
     "autoexec": {
      "startup": false,
      "wait_interval": 0
     },
     "output_extras": [
      {
       "item_id": 1
      }
     ]
    },
    "colab_type": "code",
    "collapsed": false,
    "executionInfo": {
     "elapsed": 4763,
     "status": "ok",
     "timestamp": 1445965465525,
     "user": {
      "color": "#1FA15D",
      "displayName": "Vincent Vanhoucke",
      "isAnonymous": false,
      "isMe": true,
      "permissionId": "05076109866853157986",
      "photoUrl": "//lh6.googleusercontent.com/-cCJa7dTDcgQ/AAAAAAAAAAI/AAAAAAAACgw/r2EZ_8oYer4/s50-c-k-no/photo.jpg",
      "sessionId": "2f1ffade4c9f20de",
      "userId": "102167687554210253930"
     },
     "user_tz": 420
    },
    "id": "o_e0D_UezcDe",
    "outputId": "df22e4a5-e8ec-4e5e-d384-c6cf37c68c34"
   },
   "outputs": [
    {
     "ename": "NameError",
     "evalue": "name 'two_d_embeddings' is not defined",
     "output_type": "error",
     "traceback": [
      "\u001b[0;31m---------------------------------------------------------------------------\u001b[0m",
      "\u001b[0;31mNameError\u001b[0m                                 Traceback (most recent call last)",
      "\u001b[0;32m<ipython-input-50-60644b7b42e2>\u001b[0m in \u001b[0;36m<module>\u001b[0;34m()\u001b[0m\n\u001b[1;32m     10\u001b[0m \u001b[0;34m\u001b[0m\u001b[0m\n\u001b[1;32m     11\u001b[0m \u001b[0mwords\u001b[0m \u001b[0;34m=\u001b[0m \u001b[0;34m[\u001b[0m\u001b[0mreverse_dictionary\u001b[0m\u001b[0;34m[\u001b[0m\u001b[0mi\u001b[0m\u001b[0;34m]\u001b[0m \u001b[0;32mfor\u001b[0m \u001b[0mi\u001b[0m \u001b[0;32min\u001b[0m \u001b[0mrange\u001b[0m\u001b[0;34m(\u001b[0m\u001b[0;36m1\u001b[0m\u001b[0;34m,\u001b[0m \u001b[0mnum_points\u001b[0m\u001b[0;34m+\u001b[0m\u001b[0;36m1\u001b[0m\u001b[0;34m)\u001b[0m\u001b[0;34m]\u001b[0m\u001b[0;34m\u001b[0m\u001b[0m\n\u001b[0;32m---> 12\u001b[0;31m \u001b[0mplot\u001b[0m\u001b[0;34m(\u001b[0m\u001b[0mtwo_d_embeddings\u001b[0m\u001b[0;34m,\u001b[0m \u001b[0mwords\u001b[0m\u001b[0;34m)\u001b[0m\u001b[0;34m\u001b[0m\u001b[0m\n\u001b[0m",
      "\u001b[0;31mNameError\u001b[0m: name 'two_d_embeddings' is not defined"
     ]
    }
   ],
   "source": [
    "def plot(embeddings, labels):\n",
    "  assert embeddings.shape[0] >= len(labels), 'More labels than embeddings'\n",
    "  pylab.figure(figsize=(15,15))  # in inches\n",
    "  for i, label in enumerate(labels):\n",
    "    x, y = embeddings[i,:]\n",
    "    pylab.scatter(x, y)\n",
    "    pylab.annotate(label, xy=(x, y), xytext=(5, 2), textcoords='offset points',\n",
    "                   ha='right', va='bottom')\n",
    "  pylab.show()\n",
    "\n",
    "words = [reverse_dictionary[i] for i in range(1, num_points+1)]\n",
    "plot(two_d_embeddings, words)"
   ]
  },
  {
   "cell_type": "markdown",
   "metadata": {
    "colab_type": "text",
    "id": "QB5EFrBnpNnc"
   },
   "source": [
    "---\n",
    "\n",
    "Problem\n",
    "-------\n",
    "\n",
    "An alternative to skip-gram is another Word2Vec model called [CBOW](http://arxiv.org/abs/1301.3781) (Continuous Bag of Words). In the CBOW model, instead of predicting a context word from a word vector, you predict a word from the sum of all the word vectors in its context. Implement and evaluate a CBOW model trained on the text8 dataset.\n",
    "\n",
    "---"
   ]
  },
  {
   "cell_type": "markdown",
   "metadata": {},
   "source": [
    "### Problem - Tong's solution"
   ]
  },
  {
   "cell_type": "markdown",
   "metadata": {},
   "source": [
    "Merely reverse the order of (context, target)??"
   ]
  },
  {
   "cell_type": "code",
   "execution_count": 71,
   "metadata": {
    "collapsed": false
   },
   "outputs": [
    {
     "name": "stdout",
     "output_type": "stream",
     "text": [
      "data: ['anarchism', 'originated', 'as', 'a', 'term', 'of', 'abuse', 'first']\n",
      "\n",
      "with num_skips = 2 and skip_window = 1:\n",
      "    batch: ['anarchism', 'anarchism', 'a', 'a', 'as', 'term', 'a', 'of']\n",
      "    labels: ['originated', 'originated', 'as', 'as', 'a', 'a', 'term', 'term']\n"
     ]
    }
   ],
   "source": [
    "data_index = 0\n",
    "\n",
    "def generate_batch_cbow(batch_size, num_skips, skip_window):\n",
    "    global data_index\n",
    "    assert batch_size % num_skips == 0\n",
    "    assert num_skips <= 2 * skip_window\n",
    "    batch = np.ndarray(shape=(batch_size), dtype=np.int32)\n",
    "    labels = np.ndarray(shape=(batch_size, 1), dtype=np.int32)\n",
    "    span = 2 * skip_window + 1 # [ skip_window target skip_window ]\n",
    "    buffer = collections.deque(maxlen=span)\n",
    "    for _ in range(span):\n",
    "        buffer.append(data[data_index])\n",
    "        data_index = (data_index + 1) % len(data)\n",
    "    for i in range(batch_size // num_skips):\n",
    "        target = skip_window  # target label at the center of the buffer\n",
    "        targets_to_avoid = [ skip_window ]\n",
    "        for j in range(num_skips):\n",
    "            while target in targets_to_avoid:\n",
    "                target = random.randint(0, span - 1)\n",
    "        targets_to_avoid.append(target)\n",
    "        batch[i * num_skips + j] = buffer[skip_window]\n",
    "        labels[i * num_skips + j, 0] = buffer[target]\n",
    "        buffer.append(data[data_index])\n",
    "        data_index = (data_index + 1) % len(data)\n",
    "    # swap the input and output pairs from skip-gram\n",
    "    batch_cbow = labels.reshape(batch_size)\n",
    "    labels_cbow = batch.reshape(batch_size, 1)   \n",
    "    return batch_cbow, labels_cbow\n",
    "\n",
    "print('data:', [reverse_dictionary[di] for di in data[:8]])\n",
    "\n",
    "for num_skips, skip_window in [(2, 1)]:\n",
    "    data_index = 0\n",
    "    batch, labels = generate_batch_cbow(batch_size=8, num_skips=num_skips, skip_window=skip_window)\n",
    "    print('\\nwith num_skips = %d and skip_window = %d:' % (num_skips, skip_window))\n",
    "    print('    batch:', [reverse_dictionary[bi] for bi in batch])\n",
    "    print('    labels:', [reverse_dictionary[li] for li in labels.reshape(8)])"
   ]
  },
  {
   "cell_type": "code",
   "execution_count": 72,
   "metadata": {
    "collapsed": true
   },
   "outputs": [],
   "source": [
    "batch_size = 128\n",
    "embedding_size = 128 # Dimension of the embedding vector.\n",
    "skip_window = 1 # How many words to consider left and right.\n",
    "num_skips = 2 # How many times to reuse an input to generate a label.\n",
    "# We pick a random validation set to sample nearest neighbors. here we limit the\n",
    "# validation samples to the words that have a low numeric ID, which by\n",
    "# construction are also the most frequent. \n",
    "valid_size = 16 # Random set of words to evaluate similarity on.\n",
    "valid_window = 100 # Only pick dev samples in the head of the distribution.\n",
    "valid_examples = np.array(random.sample(range(valid_window), valid_size))\n",
    "num_sampled = 64 # Number of negative examples to sample.\n",
    "\n",
    "graph = tf.Graph()\n",
    "\n",
    "with graph.as_default(), tf.device('/cpu:0'):\n",
    "\n",
    "  # Input data.\n",
    "  train_dataset = tf.placeholder(tf.int32, shape=[batch_size])\n",
    "  train_labels = tf.placeholder(tf.int32, shape=[batch_size, 1])\n",
    "  valid_dataset = tf.constant(valid_examples, dtype=tf.int32)\n",
    "  \n",
    "  # Variables.\n",
    "  embeddings = tf.Variable(\n",
    "    tf.random_uniform([vocabulary_size, embedding_size], -1.0, 1.0))\n",
    "  softmax_weights = tf.Variable(\n",
    "    tf.truncated_normal([vocabulary_size, embedding_size],\n",
    "                         stddev=1.0 / math.sqrt(embedding_size)))\n",
    "  softmax_biases = tf.Variable(tf.zeros([vocabulary_size]))\n",
    "  \n",
    "  # Model.\n",
    "  # Look up embeddings for inputs.\n",
    "  embed = tf.nn.embedding_lookup(embeddings, train_dataset)\n",
    "  # Compute the softmax loss, using a sample of the negative labels each time.\n",
    "  loss = tf.reduce_mean(\n",
    "    tf.nn.sampled_softmax_loss(softmax_weights, softmax_biases, embed,\n",
    "                               train_labels, num_sampled, vocabulary_size))\n",
    "\n",
    "  # Optimizer.\n",
    "  # Note: The optimizer will optimize the softmax_weights AND the embeddings.\n",
    "  # This is because the embeddings are defined as a variable quantity and the\n",
    "  # optimizer's `minimize` method will by default modify all variable quantities \n",
    "  # that contribute to the tensor it is passed.\n",
    "  # See docs on `tf.train.Optimizer.minimize()` for more details.\n",
    "  optimizer = tf.train.AdagradOptimizer(1.0).minimize(loss)\n",
    "  \n",
    "  # Compute the similarity between minibatch examples and all embeddings.\n",
    "  # We use the cosine distance:\n",
    "  norm = tf.sqrt(tf.reduce_sum(tf.square(embeddings), 1, keep_dims=True))\n",
    "  normalized_embeddings = embeddings / norm\n",
    "  valid_embeddings = tf.nn.embedding_lookup(\n",
    "    normalized_embeddings, valid_dataset)\n",
    "  similarity = tf.matmul(valid_embeddings, tf.transpose(normalized_embeddings))"
   ]
  },
  {
   "cell_type": "code",
   "execution_count": 73,
   "metadata": {
    "collapsed": false
   },
   "outputs": [
    {
     "name": "stdout",
     "output_type": "stream",
     "text": [
      "Initialized\n",
      "Average loss at step 0: 7.506812\n",
      "Nearest to been: provide, phased, ibsen, etymologically, sparked, istv, griswold, reputed,\n",
      "Nearest to had: awakens, colbert, dugout, seaborg, gentiles, embodies, python, concur,\n",
      "Nearest to seven: illustrating, mend, stereotypical, diploma, kombinate, very, truthful, miami,\n",
      "Nearest to that: crag, underway, lombardo, locating, jewish, song, treasures, cdu,\n",
      "Nearest to will: koestler, daunting, legends, abstaining, kaist, corned, baptizing, tls,\n",
      "Nearest to nine: originators, christina, religiously, generously, dios, earthworms, renminbi, locomotive,\n",
      "Nearest to their: elf, blacki, vermouth, shaggy, charcot, wrest, natasha, shareholders,\n",
      "Nearest to or: minbari, cowper, brie, simplification, keyes, mng, calvino, ebcdic,\n",
      "Nearest to UNK: algebraic, subhas, prospered, stencils, aikman, florin, alleging, theorize,\n",
      "Nearest to often: ottomans, chmielnicki, strassburg, dwarf, existing, cro, induce, silk,\n",
      "Nearest to its: vocalization, christ, locomotion, phosphate, cortes, machiavelli, secures, argentinean,\n",
      "Nearest to his: hamid, retirement, limelight, stained, timely, calculated, healed, majestic,\n",
      "Nearest to all: intense, pula, calvino, sj, useful, apartments, warlords, satirizing,\n",
      "Nearest to one: vcd, ribbon, curried, gbc, pipelining, naturalised, wlad, upgrade,\n",
      "Nearest to if: ulster, partnership, highlight, grease, linguistic, separating, playhouse, founds,\n",
      "Nearest to six: detonator, vasco, forecast, dutton, underhill, santana, hypnosis, hast,\n",
      "Average loss at step 2000: 2.485603\n",
      "Average loss at step 4000: 2.161202\n",
      "Average loss at step 6000: 2.109826\n",
      "Average loss at step 8000: 2.041294\n",
      "Average loss at step 10000: 1.999875\n",
      "Nearest to been: provide, sparked, reputed, transcendental, emergence, phased, courtesy, heritable,\n",
      "Nearest to had: have, was, is, were, awakens, be, ste, colbert,\n",
      "Nearest to seven: nine, zero, eight, five, four, six, two, one,\n",
      "Nearest to that: song, lombardo, crag, which, permissions, sacr, niagara, kuti,\n",
      "Nearest to will: vice, overdue, koestler, corned, would, cunt, niches, nashwaak,\n",
      "Nearest to nine: zero, eight, seven, six, five, four, two, one,\n",
      "Nearest to their: the, devoiced, auditory, hallmark, prep, charcot, dwarf, reactive,\n",
      "Nearest to or: and, minbari, cowper, auditory, mng, of, simplification, untold,\n",
      "Nearest to UNK: sword, mutagenic, ahimsa, gallup, sur, prevents, dona, bitola,\n",
      "Nearest to often: marianas, chmielnicki, cro, dwarf, aix, existing, also, it,\n",
      "Nearest to its: the, his, vocalization, calamities, locomotion, agency, scarface, horrifying,\n",
      "Nearest to his: her, the, this, its, missouri, eclipsed, corran, detected,\n",
      "Nearest to all: pendragon, sb, osborne, calvino, observatories, warlords, people, liquid,\n",
      "Nearest to one: two, four, six, five, zero, referees, seven, nine,\n",
      "Nearest to if: powiat, andy, can, complexities, larkin, is, invents, transitory,\n",
      "Nearest to six: nine, zero, four, eight, two, seven, five, one,\n",
      "Average loss at step 12000: 1.990940\n",
      "Average loss at step 14000: 1.972220\n",
      "Average loss at step 16000: 1.883437\n",
      "Average loss at step 18000: 1.903675\n",
      "Average loss at step 20000: 1.953265\n",
      "Nearest to been: provide, by, sparked, reputed, transcendental, was, be, is,\n",
      "Nearest to had: have, were, has, was, awakens, presents, wiser, are,\n",
      "Nearest to seven: five, six, four, nine, eight, zero, two, one,\n",
      "Nearest to that: which, however, what, permissions, also, niagara, this, hedonistic,\n",
      "Nearest to will: would, can, overdue, vice, koestler, cunt, niches, prut,\n",
      "Nearest to nine: six, seven, eight, five, four, zero, two, one,\n",
      "Nearest to their: his, its, the, her, reactive, oils, nursultan, sequence,\n",
      "Nearest to or: and, cowper, axles, of, polynesian, for, mng, hyperbole,\n",
      "Nearest to UNK: sword, such, sur, tristan, bitola, acc, thulsa, each,\n",
      "Nearest to often: also, it, which, chmielnicki, marianas, now, usually, dwarf,\n",
      "Nearest to its: his, their, the, whose, scarface, directory, echols, vocalization,\n",
      "Nearest to his: their, her, its, this, the, s, detected, device,\n",
      "Nearest to all: osborne, pendragon, sb, calvino, people, many, these, liquid,\n",
      "Nearest to one: two, four, six, seven, five, nine, eight, three,\n",
      "Nearest to if: can, is, powiat, larkin, andy, supercharged, willard, founds,\n",
      "Nearest to six: four, seven, five, nine, zero, two, eight, one,\n",
      "Average loss at step 22000: 1.928365\n",
      "Average loss at step 24000: 1.918608\n",
      "Average loss at step 26000: 1.913987\n",
      "Average loss at step 28000: 1.910885\n",
      "Average loss at step 30000: 1.928277\n",
      "Nearest to been: by, provide, was, sparked, be, transcendental, reputed, mesopotamian,\n",
      "Nearest to had: have, has, was, were, presents, wiser, since, where,\n",
      "Nearest to seven: nine, six, four, five, eight, two, zero, one,\n",
      "Nearest to that: which, however, what, this, crag, hedonistic, delighted, find,\n",
      "Nearest to will: would, can, to, overdue, cunt, prut, could, may,\n",
      "Nearest to nine: seven, six, four, five, eight, zero, two, one,\n",
      "Nearest to their: his, its, her, the, some, nursultan, oils, interim,\n",
      "Nearest to or: and, with, like, axles, mng, veyron, for, routines,\n",
      "Nearest to UNK: sword, well, such, vlsi, bitola, maoism, each, closes,\n",
      "Nearest to often: also, usually, now, never, it, there, sometimes, still,\n",
      "Nearest to its: their, his, the, whose, scarface, our, any, directory,\n",
      "Nearest to his: their, her, its, the, s, this, frightened, detected,\n",
      "Nearest to all: calvino, osborne, these, pendragon, observatories, people, some, many,\n",
      "Nearest to one: two, seven, four, six, five, nine, eight, three,\n",
      "Nearest to if: is, powiat, where, larkin, supercharged, would, founds, axp,\n",
      "Nearest to six: four, five, seven, nine, eight, two, zero, one,\n",
      "Average loss at step 32000: 1.922233\n",
      "Average loss at step 34000: 1.915410\n",
      "Average loss at step 36000: 1.899665\n",
      "Average loss at step 38000: 1.831689\n",
      "Average loss at step 40000: 1.887004\n",
      "Nearest to been: was, be, provide, sparked, by, reputed, already, transcendental,\n",
      "Nearest to had: have, has, was, were, wiser, presents, where, when,\n",
      "Nearest to seven: six, five, nine, four, zero, two, eight, one,\n",
      "Nearest to that: which, however, this, what, also, delighted, crag, it,\n",
      "Nearest to will: would, can, overdue, may, could, prut, to, cunt,\n",
      "Nearest to nine: seven, six, five, four, eight, zero, two, one,\n",
      "Nearest to their: its, his, her, some, the, nursultan, oils, matthews,\n",
      "Nearest to or: and, axles, poincar, with, milford, mng, a, nchen,\n",
      "Nearest to UNK: sword, well, such, giacometti, regarded, disembarked, acc, item,\n",
      "Nearest to often: also, usually, sometimes, commonly, still, never, now, there,\n",
      "Nearest to its: their, his, whose, the, them, any, directory, her,\n",
      "Nearest to his: their, her, its, s, mondale, this, the, lenin,\n",
      "Nearest to all: these, people, some, three, calvino, both, many, overdue,\n",
      "Nearest to one: seven, six, nine, two, five, four, eight, sword,\n",
      "Nearest to if: is, when, where, supercharged, larkin, before, complexities, combating,\n",
      "Nearest to six: four, seven, five, nine, two, eight, zero, one,\n",
      "Average loss at step 42000: 1.883233\n",
      "Average loss at step 44000: 1.893517\n",
      "Average loss at step 46000: 1.895101\n",
      "Average loss at step 48000: 1.843072\n",
      "Average loss at step 50000: 1.859803\n",
      "Nearest to been: was, be, provide, sparked, by, reputed, had, already,\n",
      "Nearest to had: have, has, were, was, wiser, pathogen, presents, since,\n",
      "Nearest to seven: six, nine, four, five, zero, eight, two, one,\n",
      "Nearest to that: which, however, what, delighted, this, crag, strings, quack,\n",
      "Nearest to will: would, can, may, could, overdue, prut, might, cunt,\n",
      "Nearest to nine: seven, six, four, five, zero, eight, two, one,\n",
      "Nearest to their: its, his, her, the, some, nursultan, our, them,\n",
      "Nearest to or: and, than, blitter, veyron, axles, blood, like, for,\n",
      "Nearest to UNK: well, vita, sword, armageddon, closes, such, disembarked, forestry,\n",
      "Nearest to often: usually, also, sometimes, commonly, widely, now, still, never,\n",
      "Nearest to its: their, his, the, our, whose, her, them, directory,\n",
      "Nearest to his: their, her, its, mondale, the, lenin, s, whose,\n",
      "Nearest to all: both, some, these, helicopters, people, those, heidegger, lead,\n",
      "Nearest to one: six, two, four, seven, five, nine, eight, th,\n",
      "Nearest to if: when, where, before, supercharged, complexities, should, combating, would,\n",
      "Nearest to six: four, five, seven, nine, eight, zero, two, one,\n",
      "Average loss at step 52000: 1.881041\n",
      "Average loss at step 54000: 1.879501\n",
      "Average loss at step 56000: 1.887231\n",
      "Average loss at step 58000: 1.862762\n",
      "Average loss at step 60000: 1.860359\n",
      "Nearest to been: be, was, become, sparked, provide, reputed, by, had,\n",
      "Nearest to had: have, has, was, were, presents, pathogen, when, since,\n",
      "Nearest to seven: six, five, four, nine, eight, zero, two, one,\n",
      "Nearest to that: which, what, however, this, it, crag, delighted, generally,\n",
      "Nearest to will: would, can, could, may, prut, overdue, must, might,\n",
      "Nearest to nine: six, seven, four, five, eight, zero, one, two,\n",
      "Nearest to their: its, his, her, our, nursultan, some, the, your,\n",
      "Nearest to or: and, than, like, axles, mng, veyron, blitter, imhotep,\n",
      "Nearest to UNK: such, well, sword, each, flavia, maoism, sur, aerospace,\n",
      "Nearest to often: usually, sometimes, also, commonly, still, now, generally, widely,\n",
      "Nearest to its: their, his, our, whose, the, her, your, them,\n",
      "Nearest to his: their, her, its, mondale, szil, whose, s, tanned,\n",
      "Nearest to all: these, some, many, any, both, those, unconstitutional, criterion,\n",
      "Nearest to one: six, nine, two, seven, four, five, eight, three,\n",
      "Nearest to if: when, where, is, before, supercharged, should, can, for,\n",
      "Nearest to six: four, five, seven, nine, eight, two, zero, one,\n",
      "Average loss at step 62000: 1.794412\n",
      "Average loss at step 64000: 1.796929\n",
      "Average loss at step 66000: 1.870343\n",
      "Average loss at step 68000: 1.856659\n",
      "Average loss at step 70000: 1.848519\n",
      "Nearest to been: was, be, become, reputed, already, sparked, were, provide,\n",
      "Nearest to had: have, has, was, were, since, presents, pathogen, wiser,\n",
      "Nearest to seven: six, nine, five, four, eight, zero, two, one,\n",
      "Nearest to that: which, however, what, this, fluke, crag, quack, generally,\n",
      "Nearest to will: would, can, may, could, must, might, should, prut,\n",
      "Nearest to nine: seven, six, eight, five, four, zero, one, two,\n",
      "Nearest to their: its, his, her, the, some, our, nursultan, these,\n",
      "Nearest to or: and, than, like, axles, poincar, though, veyron, mng,\n",
      "Nearest to UNK: well, sword, such, buckland, sur, used, each, originating,\n",
      "Nearest to often: usually, sometimes, now, also, commonly, generally, widely, still,\n",
      "Nearest to its: their, his, the, our, whose, her, your, directory,\n",
      "Nearest to his: her, their, its, my, mondale, whose, the, lenin,\n",
      "Nearest to all: many, some, both, any, these, those, unconstitutional, most,\n",
      "Nearest to one: six, seven, two, nine, five, four, eight, th,\n",
      "Nearest to if: when, where, before, can, supercharged, across, infogrames, though,\n",
      "Nearest to six: seven, four, nine, five, eight, zero, two, one,\n",
      "Average loss at step 72000: 1.855619\n",
      "Average loss at step 74000: 1.838294\n",
      "Average loss at step 76000: 1.826394\n",
      "Average loss at step 78000: 1.844436\n",
      "Average loss at step 80000: 1.855866\n",
      "Nearest to been: become, be, already, were, sparked, was, had, by,\n",
      "Nearest to had: have, has, was, were, since, been, presents, pathogen,\n",
      "Nearest to seven: six, five, four, nine, eight, zero, two, one,\n",
      "Nearest to that: which, however, what, fluke, this, delighted, crag, hejaz,\n",
      "Nearest to will: would, can, may, could, must, might, should, prut,\n",
      "Nearest to nine: seven, eight, six, five, four, zero, one, two,\n",
      "Nearest to their: its, his, her, your, our, nursultan, whose, the,\n",
      "Nearest to or: and, like, while, than, axles, veyron, linear, into,\n",
      "Nearest to UNK: well, originating, salinger, johnson, bitola, giacometti, sur, mclaughlin,\n",
      "Nearest to often: usually, sometimes, commonly, generally, now, still, also, largely,\n",
      "Nearest to its: their, his, our, your, whose, the, her, specimens,\n",
      "Nearest to his: her, their, its, your, my, mondale, aerobatics, whose,\n",
      "Nearest to all: both, many, some, these, any, digit, those, several,\n",
      "Nearest to one: two, six, seven, five, four, three, nine, eight,\n",
      "Nearest to if: when, where, before, across, because, though, should, supercharged,\n",
      "Nearest to six: seven, five, four, nine, eight, zero, two, one,\n",
      "Average loss at step 82000: 1.862896\n",
      "Average loss at step 84000: 1.866079\n",
      "Average loss at step 86000: 1.853845\n",
      "Average loss at step 88000: 1.841879\n",
      "Average loss at step 90000: 1.846559\n",
      "Nearest to been: become, already, be, sparked, was, albedo, were, reputed,\n",
      "Nearest to had: have, has, was, were, having, pathogen, since, began,\n",
      "Nearest to seven: six, five, four, nine, eight, zero, one, two,\n",
      "Nearest to that: which, however, what, this, delighted, crag, strings, generally,\n",
      "Nearest to will: would, can, may, could, must, should, might, does,\n",
      "Nearest to nine: seven, six, five, four, eight, zero, one, two,\n",
      "Nearest to their: its, his, her, your, our, whose, nursultan, these,\n",
      "Nearest to or: and, like, veyron, tiglath, than, oligarchic, axles, while,\n",
      "Nearest to UNK: such, well, monophysitism, sword, sur, melcher, mgh, tuple,\n",
      "Nearest to often: usually, sometimes, commonly, generally, still, now, widely, also,\n",
      "Nearest to its: their, his, our, her, the, your, whose, mondale,\n",
      "Nearest to his: her, their, its, your, s, whose, my, mondale,\n",
      "Nearest to all: both, many, some, these, any, those, several, because,\n",
      "Nearest to one: seven, four, six, two, five, nine, eight, three,\n",
      "Nearest to if: when, where, before, infogrames, although, because, though, while,\n",
      "Nearest to six: seven, five, four, nine, eight, two, zero, one,\n",
      "Average loss at step 92000: 1.864015\n",
      "Average loss at step 94000: 1.792128\n",
      "Average loss at step 96000: 1.839030\n",
      "Average loss at step 98000: 1.785169\n",
      "Average loss at step 100000: 1.837581\n",
      "Nearest to been: become, be, was, already, by, albedo, sparked, were,\n",
      "Nearest to had: have, has, was, were, since, would, pathogen, won,\n",
      "Nearest to seven: nine, five, six, four, eight, zero, one, two,\n",
      "Nearest to that: which, however, what, often, generally, crag, hejaz, still,\n",
      "Nearest to will: would, may, can, must, could, should, might, cannot,\n",
      "Nearest to nine: seven, six, five, eight, four, zero, one, two,\n",
      "Nearest to their: its, his, her, your, our, these, the, some,\n",
      "Nearest to or: and, than, ici, blood, veyron, for, tiglath, with,\n",
      "Nearest to UNK: well, sur, sword, such, buckland, regarded, maoism, cupola,\n",
      "Nearest to often: usually, sometimes, generally, commonly, now, still, widely, frequently,\n",
      "Nearest to its: their, his, the, our, her, whose, your, mondale,\n",
      "Nearest to his: her, their, its, your, the, my, s, whose,\n",
      "Nearest to all: many, these, both, some, several, any, those, every,\n",
      "Nearest to one: seven, five, two, four, nine, six, eight, zero,\n",
      "Nearest to if: when, where, because, while, before, although, can, though,\n",
      "Nearest to six: seven, five, nine, four, zero, eight, two, one,\n"
     ]
    }
   ],
   "source": [
    "num_steps = 100001\n",
    "\n",
    "with tf.Session(graph=graph) as session:\n",
    "  tf.initialize_all_variables().run()\n",
    "  print('Initialized')\n",
    "  average_loss = 0\n",
    "  for step in range(num_steps):\n",
    "    batch_data, batch_labels = generate_batch_cbow(\n",
    "      batch_size, num_skips, skip_window)\n",
    "    feed_dict = {train_dataset : batch_data, train_labels : batch_labels}\n",
    "    _, l = session.run([optimizer, loss], feed_dict=feed_dict)\n",
    "    average_loss += l\n",
    "    if step % 2000 == 0:\n",
    "      if step > 0:\n",
    "        average_loss = average_loss / 2000\n",
    "      # The average loss is an estimate of the loss over the last 2000 batches.\n",
    "      print('Average loss at step %d: %f' % (step, average_loss))\n",
    "      average_loss = 0\n",
    "    # note that this is expensive (~20% slowdown if computed every 500 steps)\n",
    "    if step % 10000 == 0:\n",
    "      sim = similarity.eval()\n",
    "      for i in range(valid_size):\n",
    "        valid_word = reverse_dictionary[valid_examples[i]]\n",
    "        top_k = 8 # number of nearest neighbors\n",
    "        nearest = (-sim[i, :]).argsort()[1:top_k+1]\n",
    "        log = 'Nearest to %s:' % valid_word\n",
    "        for k in range(top_k):\n",
    "          close_word = reverse_dictionary[nearest[k]]\n",
    "          log = '%s %s,' % (log, close_word)\n",
    "        print(log)\n",
    "  final_embeddings = normalized_embeddings.eval()"
   ]
  }
 ],
 "metadata": {
  "colab": {
   "default_view": {},
   "name": "5_word2vec.ipynb",
   "provenance": [],
   "version": "0.3.2",
   "views": {}
  },
  "kernelspec": {
   "display_name": "Python 2",
   "language": "python",
   "name": "python2"
  },
  "language_info": {
   "codemirror_mode": {
    "name": "ipython",
    "version": 2
   },
   "file_extension": ".py",
   "mimetype": "text/x-python",
   "name": "python",
   "nbconvert_exporter": "python",
   "pygments_lexer": "ipython2",
   "version": "2.7.11"
  }
 },
 "nbformat": 4,
 "nbformat_minor": 0
}
